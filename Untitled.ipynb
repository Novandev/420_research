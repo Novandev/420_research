{
 "cells": [
  {
   "cell_type": "code",
   "execution_count": 18,
   "metadata": {},
   "outputs": [
    {
     "data": {
      "text/plain": [
       "Index(['Strain', 'Type', 'Rating', 'Effects', 'Flavor', 'Description'], dtype='object')"
      ]
     },
     "execution_count": 18,
     "metadata": {},
     "output_type": "execute_result"
    }
   ],
   "source": [
    "from __future__ import print_function\n",
    "from statsmodels.compat import urlopen\n",
    "import numpy as np\n",
    "np.set_printoptions(precision=4, suppress=True)\n",
    "\n",
    "import pandas as pd\n",
    "pd.set_option(\"display.width\", 100)\n",
    "import matplotlib.pyplot as plt\n",
    "from statsmodels.formula.api import ols\n",
    "from statsmodels.graphics.api import interaction_plot, abline_plot\n",
    "from statsmodels.stats.anova import anova_lm\n",
    "import seaborn as sns\n",
    "%matplotlib inline\n",
    "\n",
    "base_df = pd.read_csv('cannabis.csv')\n",
    "base_df[:10]\n",
    "from scipy import stats\n",
    "import matplotlib.pyplot as plt\n",
    "plt.show()\n",
    "base_df.columns"
   ]
  },
  {
   "cell_type": "code",
   "execution_count": 9,
   "metadata": {},
   "outputs": [
    {
     "data": {
      "text/plain": [
       "2351"
      ]
     },
     "execution_count": 9,
     "metadata": {},
     "output_type": "execute_result"
    }
   ],
   "source": [
    "len(base_df)"
   ]
  },
  {
   "cell_type": "code",
   "execution_count": 19,
   "metadata": {},
   "outputs": [
    {
     "data": {
      "text/plain": [
       "0.699554959863164"
      ]
     },
     "execution_count": 19,
     "metadata": {},
     "output_type": "execute_result"
    }
   ],
   "source": [
    "#variance is \n",
    "base_df['Rating'].var()"
   ]
  },
  {
   "cell_type": "code",
   "execution_count": 4,
   "metadata": {},
   "outputs": [
    {
     "data": {
      "text/plain": [
       "4.31063377286261"
      ]
     },
     "execution_count": 4,
     "metadata": {},
     "output_type": "execute_result"
    }
   ],
   "source": [
    "#arithmetic mean\n",
    "base_df['Rating'].mean()"
   ]
  },
  {
   "cell_type": "code",
   "execution_count": 28,
   "metadata": {},
   "outputs": [],
   "source": [
    "more_than_one = base_df['Rating'] > 1"
   ]
  },
  {
   "cell_type": "code",
   "execution_count": 29,
   "metadata": {},
   "outputs": [],
   "source": [
    "new_df = base_df[more_than_one]"
   ]
  },
  {
   "cell_type": "code",
   "execution_count": 32,
   "metadata": {},
   "outputs": [
    {
     "data": {
      "text/plain": [
       "<matplotlib.axes._subplots.AxesSubplot at 0x7fb12d58b860>"
      ]
     },
     "execution_count": 32,
     "metadata": {},
     "output_type": "execute_result"
    },
    {
     "data": {
      "image/png": "[encoded data removed]",
      "text/plain": [
       "<Figure size 432x288 with 1 Axes>"
      ]
     },
     "metadata": {
      "needs_background": "light"
     },
     "output_type": "display_data"
    }
   ],
   "source": [
    "sns.distplot(new_df['Rating'])"
   ]
  },
  {
   "cell_type": "code",
   "execution_count": 49,
   "metadata": {},
   "outputs": [
    {
     "data": {
      "text/plain": [
       "2279"
      ]
     },
     "execution_count": 49,
     "metadata": {},
     "output_type": "execute_result"
    }
   ],
   "source": [
    "len(new_df['Rating'])"
   ]
  },
  {
   "cell_type": "code",
   "execution_count": 33,
   "metadata": {},
   "outputs": [
    {
     "data": {
      "text/plain": [
       "4.4463799912242195"
      ]
     },
     "execution_count": 33,
     "metadata": {},
     "output_type": "execute_result"
    }
   ],
   "source": [
    "# Now lets do math whith these\n",
    "new_df['Rating'].mean()"
   ]
  },
  {
   "cell_type": "code",
   "execution_count": 34,
   "metadata": {},
   "outputs": [
    {
     "data": {
      "text/plain": [
       "0.11927464219824277"
      ]
     },
     "execution_count": 34,
     "metadata": {},
     "output_type": "execute_result"
    }
   ],
   "source": [
    "new_df['Rating'].var()"
   ]
  },
  {
   "cell_type": "code",
   "execution_count": 36,
   "metadata": {},
   "outputs": [
    {
     "data": {
      "text/plain": [
       "4.5"
      ]
     },
     "execution_count": 36,
     "metadata": {},
     "output_type": "execute_result"
    }
   ],
   "source": [
    "new_df['Rating'].median()"
   ]
  },
  {
   "cell_type": "code",
   "execution_count": 43,
   "metadata": {},
   "outputs": [
    {
     "data": {
      "text/plain": [
       "<matplotlib.axes._subplots.AxesSubplot at 0x7fb12d27aa90>"
      ]
     },
     "execution_count": 43,
     "metadata": {},
     "output_type": "execute_result"
    },
    {
     "data": {
      "image/png": "[encoded data removed]",
      "text/plain": [
       "<Figure size 432x288 with 1 Axes>"
      ]
     },
     "metadata": {
      "needs_background": "light"
     },
     "output_type": "display_data"
    }
   ],
   "source": [
    "new_df['Rating'].skew()\n",
    "new_df['Rating'].hist(bins=100)"
   ]
  },
  {
   "cell_type": "code",
   "execution_count": 74,
   "metadata": {},
   "outputs": [
    {
     "data": {
      "text/plain": [
       "[array([4.3, 4.6, 4.5, 4.2, 4.5, 4.3, 4.3, 4.4, 4.7, 4.2, 5. , 4.3, 4.5,\n",
       "        4.5, 4.3, 4.7, 5. , 4.2, 4.7, 4.7, 3.9, 4.3, 4.3, 4.7, 4.4, 4.6,\n",
       "        4.1, 4.2, 4.8, 4. , 4.3, 4.8, 4.7, 4.8, 4.6, 4. , 4.3, 4.2, 4.8,\n",
       "        4. , 4.8, 4.3, 4.7, 4.6, 4.3, 4.1, 3.3, 4.3, 4.2, 4.4, 4.3, 4.5,\n",
       "        4.5, 5. , 4.5, 4.3, 4.8, 4.4, 4.6, 4.2, 4.5, 4.3, 4.3, 4.7, 4.6,\n",
       "        4.2, 4.6, 4. , 3. , 4.3, 4.8, 4.6, 4.1, 4.7, 4.2, 4.8, 4.2, 4.6,\n",
       "        5. , 4.2, 5. , 4.7, 4.5, 4.4, 4.6, 4.3, 4.6, 4.5, 4.7, 4.3, 4. ,\n",
       "        4.7, 4.5, 4.6, 4.7, 3.9, 4.6, 4.3, 4.5, 4.5, 4.7, 4.2, 4.2, 4.2,\n",
       "        4.4, 4.9, 4.7, 5. , 4.6, 5. , 4.3, 4.8, 5. , 4.8, 4.2, 4.4, 4.6,\n",
       "        4.7, 4.2, 4.9, 4.6, 4.2, 4.3, 4.6, 4.1, 4.4, 4.6, 4.2, 4.6, 4.5,\n",
       "        4.4, 4.6, 4.5, 4.5, 4.5, 4.2, 4.8, 4.3, 4.7, 4.9, 4.3, 4.7, 4.2,\n",
       "        4.4, 4.7, 4.4, 4.5, 4.8, 4.5, 4.3]),\n",
       " array([5. , 4.2, 4.2, 4.3, 4.8, 4.8, 4.4, 5. , 4.3, 4.7, 4.6, 4.3, 4. ,\n",
       "        4.2, 4.8, 4.6, 4.5, 4.3, 4.8, 4.3, 4.4, 3.8, 4.7, 4.5, 4.4, 4.3,\n",
       "        3.2, 4.4, 4.1, 4. , 4.3, 4.7, 5. , 4.4, 4.3, 4.1, 4.8, 4.5, 4.8,\n",
       "        4.6, 4.5, 4.8, 4.8, 4.4, 4.2, 4.4, 4.4, 4. , 5. , 4.3, 4.2, 4.5,\n",
       "        4.6, 4.5, 4.2, 3.7, 4.8, 4.7, 4.2, 4.6, 4.4, 4.4, 4.7, 3.9, 4.4,\n",
       "        4.2, 4.6, 4.3, 4.6, 4.5, 4.4, 4.3, 4.3, 4.5, 4. , 5. , 5. , 4.8,\n",
       "        4.4, 4. , 4. , 4.2, 4.5, 4.3, 4.1, 4.4, 4.2, 4.2, 4.5, 4.4, 4.8,\n",
       "        4.2, 3.8, 4.5, 4.4, 4.7, 4.6, 4.5, 4.1, 4.4, 4.5, 4.3, 4.3, 4.8,\n",
       "        4.5, 4.5, 4.6, 4.5, 4.5, 4.4, 4.5, 4.3, 5. , 4.3, 4.4, 4.6, 3.9,\n",
       "        4.5, 5. , 4.6, 4.5, 4.6, 4.4, 4.5, 5. , 3.9, 5. , 4.2, 4.8, 4.1,\n",
       "        4.4, 4.7, 4.4, 4.2, 4.7, 4.5, 4. , 4.3, 4.1, 4.3, 4.3, 4.5, 4.5,\n",
       "        4.2, 4.4, 4.5, 4.4, 4.5, 3.6, 4.5]),\n",
       " array([4.7, 4.5, 4. , 4.6, 4.3, 4.6, 3.9, 4.3, 4.4, 4.3, 4.2, 5. , 4.7,\n",
       "        4.2, 4.8, 4.7, 4.9, 4.1, 4.4, 4.2, 4.1, 4.4, 4.5, 4.3, 4. , 4.1,\n",
       "        4.4, 3. , 4.5, 5. , 4.7, 4.5, 4.1, 4.3, 4.6, 4.7, 4.5, 4.6, 4.2,\n",
       "        5. , 4.7, 3. , 4.5, 4.1, 4.3, 5. , 4.3, 4.7, 5. , 4.3, 4.1, 4.4,\n",
       "        5. , 4.4, 4.7, 4.5, 4.8, 5. , 4.2, 4.6, 3. , 4.6, 4.9, 5. , 4.2,\n",
       "        4.7, 3.6, 4.1, 5. , 4.7, 5. , 4.5, 4.3, 4.4, 4.3, 4.3, 4.3, 4.5,\n",
       "        4.4, 4.8, 4.5, 4.3, 5. , 4.2, 3.3, 4.8, 4.7, 4.9, 4.5, 5. , 4.3,\n",
       "        4.2, 4.5, 5. , 5. , 5. , 4.6, 5. , 4.5, 5. , 4.8, 5. , 4.7, 4.2,\n",
       "        4.3, 4.7, 4. , 4.4, 3.9, 4.4, 4.8, 4.3, 4.6, 4.1, 4.8, 4.7, 4.5,\n",
       "        5. , 4.7, 4.5, 4.5, 4.8, 4.3, 4.3, 4.6, 3. , 4.5, 4.8, 4.3, 4.8,\n",
       "        4.1, 4.4, 5. , 4.5, 4.7, 4.5, 4.3, 4.2, 4.6, 4. , 4.6, 4.2, 4.5,\n",
       "        4.2, 4.2, 4.5, 4.5, 4.2, 4.5, 4.3]),\n",
       " array([5. , 5. , 5. , 4.8, 4.5, 4.4, 4.3, 4.2, 4.6, 3.8, 4.4, 4.2, 4.1,\n",
       "        4.8, 4.5, 4.4, 4.7, 4.1, 4.2, 4.4, 4.8, 4.7, 4.3, 4.4, 4.3, 4.5,\n",
       "        4. , 4.8, 4.4, 4.3, 4.4, 3.5, 3.9, 4.3, 4.8, 4.4, 4.1, 4.7, 4.7,\n",
       "        4.8, 4.5, 4.4, 4.6, 5. , 4.5, 4.4, 4.2, 4.8, 4.6, 4.3, 4.8, 4. ,\n",
       "        4. , 4.2, 4.9, 4.5, 4.5, 4.3, 4.3, 4.5, 5. , 4.1, 4.3, 4. , 5. ,\n",
       "        4.5, 4.8, 4.5, 5. , 4.4, 4.3, 5. , 4.1, 4.5, 4.3, 4.6, 4.6, 5. ,\n",
       "        4.6, 4.3, 4.3, 4.7, 4.1, 4.8, 4.2, 5. , 3.8, 4.2, 4.7, 5. , 4.6,\n",
       "        4.3, 4.8, 4.9, 4.6, 4.8, 4.9, 4. , 4. , 4.2, 4.2, 4.8, 4.3, 4.6,\n",
       "        4.7, 4.5, 4.2, 4.2, 4.6, 5. , 4.5, 4.9, 4.2, 4.7, 5. , 4.6, 4.8,\n",
       "        4.4, 4.4, 5. , 4.5, 4.9, 4.8, 4.4, 5. , 4.1, 4.5, 4.3, 4.6, 5. ,\n",
       "        4.6, 4.1, 4.5, 4.5, 4.2, 4.8, 4.1, 4.9, 4.7, 4.6, 4.3, 4.5, 4.1,\n",
       "        4. , 4.5, 4.2, 4.4, 3.8, 4.5, 3.7]),\n",
       " array([4.8, 4.1, 4.7, 4.3, 4.9, 4.5, 4.5, 5. , 4.5, 4.7, 4.3, 4.6, 4.1,\n",
       "        5. , 4.3, 4.6, 4.7, 4.6, 5. , 4.8, 4.4, 4.4, 4.3, 4.5, 4.3, 4.3,\n",
       "        4.3, 4.6, 4.7, 4. , 4.3, 4.7, 4.8, 5. , 4.2, 5. , 4.2, 4.2, 3.5,\n",
       "        4.6, 4.4, 3.3, 4.3, 4.2, 3.5, 4.8, 4.1, 4.9, 4.2, 4.3, 4.5, 4.4,\n",
       "        5. , 4.9, 5. , 4.3, 4.7, 4.9, 4.1, 4.4, 5. , 4. , 4.6, 4.6, 4.5,\n",
       "        4.2, 4.5, 4.8, 4.8, 4.5, 4.2, 4.6, 4.6, 4.8, 4.5, 4.5, 4.8, 4.8,\n",
       "        4.8, 5. , 4.6, 4. , 4.5, 4.8, 4.6, 4.6, 4.2, 4.3, 4. , 4.8, 4. ,\n",
       "        4.5, 4.3, 4.5, 4.5, 4.3, 5. , 4.3, 4.5, 4.9, 4.5, 4.8, 4.8, 4.4,\n",
       "        4.6, 4.2, 4.5, 4.6, 4.3, 5. , 4.4, 5. , 4.4, 4.8, 5. , 4.2, 4.6,\n",
       "        4.3, 4.4, 4.2, 5. , 5. , 4.5, 4.6, 4.4, 4. , 4.2, 4.5, 4.4, 4.3,\n",
       "        4.6, 4.3, 4.2, 4.1, 4.3, 4.4, 4.2, 4.7, 4.5, 4.5, 5. , 4.1, 4.4,\n",
       "        4.3, 4.5, 4. , 4.5, 4.7, 4.2, 4.3])]"
      ]
     },
     "execution_count": 74,
     "metadata": {},
     "output_type": "execute_result"
    }
   ],
   "source": [
    "#weak random sampling without replacement\n",
    "# 5 samples\n",
    "import random\n",
    "from random import choice\n",
    "rating_list =list(new_df['Rating'])\n",
    "five_samples_of_150= []\n",
    "for j in range(5):\n",
    "    y = np.zeros(150)\n",
    "    for i in range(150):\n",
    "       \n",
    "        position =int(random.randint(0, len(rating_list)-1))\n",
    "#         print(position)\n",
    "        y[i]= rating_list[int(position)]\n",
    "        \n",
    "        del rating_list[position]\n",
    "#         print(len(rating_list))\n",
    "    five_samples_of_150.append(y)\n",
    "        \n",
    "five_samples_of_150"
   ]
  }
 ],
 "metadata": {
  "kernelspec": {
   "display_name": "Python 3",
   "language": "python",
   "name": "python3"
  },
  "language_info": {
   "codemirror_mode": {
    "name": "ipython",
    "version": 3
   },
   "file_extension": ".py",
   "mimetype": "text/x-python",
   "name": "python",
   "nbconvert_exporter": "python",
   "pygments_lexer": "ipython3",
   "version": "3.7.3"
  }
 },
 "nbformat": 4,
 "nbformat_minor": 4
}
